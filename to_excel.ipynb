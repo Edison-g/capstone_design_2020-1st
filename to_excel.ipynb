{
 "cells": [
  {
   "cell_type": "code",
   "execution_count": 11,
   "metadata": {},
   "outputs": [],
   "source": [
    "tq_dict = {0: 0.05290477035187767, 100: 0.09506976989416485, 200: -0.11965472827518467, 300: -0.30552270279119753, 400: -0.11698997773066068, 500: -0.08669776871051937, 600: -0.391982217730127, 700: -0.46455776671753635, 800: -0.1821102066127279, 900: -0.655777268632003}"
   ]
  },
  {
   "cell_type": "code",
   "execution_count": 12,
   "metadata": {},
   "outputs": [
    {
     "data": {
      "text/plain": [
       "{0: 0.05290477035187767,\n",
       " 100: 0.09506976989416485,\n",
       " 200: -0.11965472827518467,\n",
       " 300: -0.30552270279119753,\n",
       " 400: -0.11698997773066068,\n",
       " 500: -0.08669776871051937,\n",
       " 600: -0.391982217730127,\n",
       " 700: -0.46455776671753635,\n",
       " 800: -0.1821102066127279,\n",
       " 900: -0.655777268632003}"
      ]
     },
     "execution_count": 12,
     "metadata": {},
     "output_type": "execute_result"
    }
   ],
   "source": [
    "tq_dict"
   ]
  },
  {
   "cell_type": "code",
   "execution_count": 30,
   "metadata": {},
   "outputs": [],
   "source": [
    "import pandas as pd\n",
    "from openpyxl import Workbook, load_workbook\n",
    "\n",
    "try:\n",
    "    book = load_workbook(\"performance.xlsx\")\n",
    "    existing = pd.read_excel(\"performance.xlsx\", sheet_name=\"torque-w\")\n",
    "    \n",
    "    writer = pd.ExcelWriter('performance.xlsx', engine=\"openpyxl\", mode='a')\n",
    "    writer.book = book\n",
    "    df = pd.DataFrame.from_dict(tq_dict, orient='index', columns=['torque(N*m)'])\n",
    "    writer.sheets = {ws.title: ws for ws in book.worksheets}\n",
    "    for sheetname in writer.sheets:\n",
    "        df.to_excel(writer, sheet_name=sheetname, startrow=0, startcol=writer.sheets[sheetname].max_column,index=True, header=True, index_label='rad/s')\n",
    "    writer.save()\n",
    "    writer.close()\n",
    "except FileNotFoundError:\n",
    "    wb = Workbook()\n",
    "    wb.save(\"./performance.xlsx\")\n",
    "    wb.close()\n",
    "    book = load_workbook(\"performance.xlsx\")\n",
    "    writer = pd.ExcelWriter('performance.xlsx', engine='openpyxl', mode='w')\n",
    "    writer.book = book\n",
    "    df = pd.DataFrame.from_dict(tq_dict, orient='index', columns=['torque(N*m)'])\n",
    "    df.to_excel(writer, sheet_name='torque-w', startrow=0, startcol=0, index=True, header=True, index_label=\"rad/s\")\n",
    "    writer.save()\n",
    "    writer.close()"
   ]
  },
  {
   "cell_type": "code",
   "execution_count": null,
   "metadata": {},
   "outputs": [],
   "source": []
  },
  {
   "cell_type": "code",
   "execution_count": null,
   "metadata": {},
   "outputs": [],
   "source": []
  },
  {
   "cell_type": "code",
   "execution_count": null,
   "metadata": {},
   "outputs": [],
   "source": []
  },
  {
   "cell_type": "code",
   "execution_count": null,
   "metadata": {},
   "outputs": [],
   "source": []
  },
  {
   "cell_type": "code",
   "execution_count": null,
   "metadata": {},
   "outputs": [],
   "source": []
  },
  {
   "cell_type": "code",
   "execution_count": null,
   "metadata": {},
   "outputs": [],
   "source": [
    "\n",
    "\n"
   ]
  }
 ],
 "metadata": {
  "kernelspec": {
   "display_name": "mechanical",
   "language": "python",
   "name": "mechanical"
  },
  "language_info": {
   "codemirror_mode": {
    "name": "ipython",
    "version": 3
   },
   "file_extension": ".py",
   "mimetype": "text/x-python",
   "name": "python",
   "nbconvert_exporter": "python",
   "pygments_lexer": "ipython3",
   "version": "3.7.7"
  }
 },
 "nbformat": 4,
 "nbformat_minor": 2
}
