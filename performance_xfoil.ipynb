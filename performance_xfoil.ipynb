{
 "cells": [
  {
   "cell_type": "code",
   "execution_count": 2,
   "metadata": {},
   "outputs": [],
   "source": [
    "from xfoil import XFoil"
   ]
  },
  {
   "cell_type": "code",
   "execution_count": 53,
   "metadata": {},
   "outputs": [],
   "source": [
    "xf = XFoil()"
   ]
  },
  {
   "cell_type": "code",
   "execution_count": 4,
   "metadata": {},
   "outputs": [],
   "source": [
    "from xfoil.test import *"
   ]
  },
  {
   "cell_type": "code",
   "execution_count": 42,
   "metadata": {},
   "outputs": [],
   "source": [
    "import numpy as np"
   ]
  },
  {
   "cell_type": "code",
   "execution_count": 36,
   "metadata": {},
   "outputs": [],
   "source": [
    "array = np.loadtxt(\"NACA6409.dat\", skiprows=1)"
   ]
  },
  {
   "cell_type": "code",
   "execution_count": 60,
   "metadata": {},
   "outputs": [],
   "source": [
    "from xfoil.model import Airfoil"
   ]
  },
  {
   "cell_type": "code",
   "execution_count": 54,
   "metadata": {},
   "outputs": [],
   "source": [
    "naca6409 = Airfoil(x=array[:,0], y=array[:,1])"
   ]
  },
  {
   "cell_type": "code",
   "execution_count": 71,
   "metadata": {},
   "outputs": [
    {
     "data": {
      "text/plain": [
       "(1.1482601165771484,\n",
       " 0.22458294034004211,\n",
       " -0.13075758516788483,\n",
       " -2.29042649269104)"
      ]
     },
     "execution_count": 71,
     "metadata": {},
     "output_type": "execute_result"
    }
   ],
   "source": [
    "xf = XFoil()\n",
    "xf.airfoil = naca6409\n",
    "xf.Re = 82000.0\n",
    "xf.max_iter = 400\n",
    "xf.a(17)"
   ]
  },
  {
   "cell_type": "code",
   "execution_count": 34,
   "metadata": {},
   "outputs": [],
   "source": [
    "a, cl, cd, cm, cp = xf.aseq(0,15,0.5)"
   ]
  },
  {
   "cell_type": "code",
   "execution_count": 35,
   "metadata": {},
   "outputs": [
    {
     "data": {
      "text/plain": [
       "(array([ 0. ,  0.5,  1. ,  1.5,  2. ,  2.5,  3. ,  3.5,  4. ,  4.5,  5. ,\n",
       "         5.5,  6. ,  6.5,  7. ,  7.5,  8. ,  8.5,  9. ,  9.5, 10. , 10.5,\n",
       "        11. , 11.5, 12. , 12.5,  nan,  nan, 14. , 14.5]),\n",
       " array([-0.06431956,  0.02774251,  0.12939762,  0.20639464,  0.29713708,\n",
       "         0.35657737,  0.42086142,  0.49094483,  0.56699753,  0.64396244,\n",
       "         0.6938144 ,  0.74485147,  0.83038008,  0.88067764,  0.94144017,\n",
       "         0.99716395,  1.03346753,  1.06016743,  1.09244072,  1.1243149 ,\n",
       "         1.14605629,  1.16958189,  1.1451304 ,  1.09181178,  1.01590264,\n",
       "         0.95413482,         nan,         nan,  0.75483686,  0.80321556]),\n",
       " array([0.02449794, 0.02666222, 0.02875526, 0.03034821, 0.03184428,\n",
       "        0.03330315, 0.03464805, 0.03572888, 0.03629893, 0.03619942,\n",
       "        0.03711412, 0.03765804, 0.03528424, 0.03509488, 0.03376903,\n",
       "        0.03273857, 0.03327281, 0.03559441, 0.03874994, 0.0436809 ,\n",
       "        0.04839321, 0.05483542, 0.0628339 , 0.07196066, 0.08563953,\n",
       "        0.10384089,        nan,        nan, 0.17657053, 0.19091175]),\n",
       " array([-0.01440971, -0.02487077, -0.03617325, -0.0424256 , -0.05009987,\n",
       "        -0.05225481, -0.05461935, -0.05711104, -0.05934186, -0.06013793,\n",
       "        -0.05786324, -0.05505   , -0.05300722, -0.04864702, -0.04430421,\n",
       "        -0.03962674, -0.03399029, -0.02851648, -0.02456691, -0.02135133,\n",
       "        -0.01749773, -0.01453598, -0.00845075, -0.00293178, -0.00407007,\n",
       "        -0.01135302,         nan,         nan, -0.06057305, -0.06024351]),\n",
       " array([-0.67420691, -0.51713365, -0.48655254, -0.54420322, -0.61797667,\n",
       "        -0.67907727, -0.75678468, -0.86007482, -0.99962103, -1.18037593,\n",
       "        -1.33903253, -1.52374136, -1.81358635, -2.0629251 , -2.35665822,\n",
       "        -2.64525151, -2.87317967, -3.08277369, -3.29978228, -3.47275782,\n",
       "        -3.62456012, -3.750422  , -3.68928337, -3.54946899, -3.30155277,\n",
       "        -3.02499008,         nan,         nan, -1.57600176, -1.68141925]))"
      ]
     },
     "execution_count": 35,
     "metadata": {},
     "output_type": "execute_result"
    }
   ],
   "source": [
    "xf.aseq(0,15,0.5)"
   ]
  },
  {
   "cell_type": "code",
   "execution_count": 31,
   "metadata": {},
   "outputs": [],
   "source": [
    "cl, cd, cm, cp = xf.a(10)"
   ]
  },
  {
   "cell_type": "code",
   "execution_count": 32,
   "metadata": {},
   "outputs": [
    {
     "data": {
      "text/plain": [
       "(nan, nan, nan, nan)"
      ]
     },
     "execution_count": 32,
     "metadata": {},
     "output_type": "execute_result"
    }
   ],
   "source": [
    "xf.a(13)"
   ]
  },
  {
   "cell_type": "code",
   "execution_count": 33,
   "metadata": {},
   "outputs": [
    {
     "data": {
      "text/plain": [
       "nan"
      ]
     },
     "execution_count": 33,
     "metadata": {},
     "output_type": "execute_result"
    }
   ],
   "source": [
    "cl"
   ]
  },
  {
   "cell_type": "code",
   "execution_count": null,
   "metadata": {},
   "outputs": [],
   "source": []
  }
 ],
 "metadata": {
  "kernelspec": {
   "display_name": "mechanical",
   "language": "python",
   "name": "mechanical"
  },
  "language_info": {
   "codemirror_mode": {
    "name": "ipython",
    "version": 3
   },
   "file_extension": ".py",
   "mimetype": "text/x-python",
   "name": "python",
   "nbconvert_exporter": "python",
   "pygments_lexer": "ipython3",
   "version": "3.7.7"
  }
 },
 "nbformat": 4,
 "nbformat_minor": 2
}
