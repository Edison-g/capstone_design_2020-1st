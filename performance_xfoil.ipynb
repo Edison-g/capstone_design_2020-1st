{
 "cells": [
  {
   "cell_type": "code",
   "execution_count": 1,
   "metadata": {},
   "outputs": [],
   "source": [
    "from xfoil import XFoil"
   ]
  },
  {
   "cell_type": "code",
   "execution_count": 2,
   "metadata": {},
   "outputs": [],
   "source": [
    "xf = XFoil()"
   ]
  },
  {
   "cell_type": "code",
   "execution_count": 3,
   "metadata": {},
   "outputs": [],
   "source": [
    "from xfoil.test import *"
   ]
  },
  {
   "cell_type": "code",
   "execution_count": 4,
   "metadata": {},
   "outputs": [],
   "source": [
    "import numpy as np"
   ]
  },
  {
   "cell_type": "code",
   "execution_count": 5,
   "metadata": {},
   "outputs": [],
   "source": [
    "array = np.loadtxt(\"NACA6409.dat\", skiprows=1)"
   ]
  },
  {
   "cell_type": "code",
   "execution_count": 6,
   "metadata": {},
   "outputs": [],
   "source": [
    "from xfoil.model import Airfoil"
   ]
  },
  {
   "cell_type": "code",
   "execution_count": 7,
   "metadata": {},
   "outputs": [],
   "source": [
    "naca6409 = Airfoil(x=1.155*array[:,0], y=2.541*array[:,1])"
   ]
  },
  {
   "cell_type": "code",
   "execution_count": 16,
   "metadata": {},
   "outputs": [
    {
     "data": {
      "text/plain": [
       "(1.3608604669570923,\n",
       " 0.3009273409843445,\n",
       " -0.3354739844799042,\n",
       " -1.2110896110534668)"
      ]
     },
     "execution_count": 16,
     "metadata": {},
     "output_type": "execute_result"
    }
   ],
   "source": [
    "xf = XFoil()\n",
    "xf.airfoil = naca6409\n",
    "xf.Re = 66948\n",
    "xf.max_iter = 200\n",
    "xf.n_crit = 9.00\n",
    "xf.xtr = [1.00, 1.00]\n",
    "xf.M = 0\n",
    "xf.a(17.8)"
   ]
  },
  {
   "cell_type": "code",
   "execution_count": 17,
   "metadata": {},
   "outputs": [
    {
     "data": {
      "text/plain": [
       "(3.5347068309783936,\n",
       " 0.04835117235779762,\n",
       " -0.8190194964408875,\n",
       " -3.607102394104004)"
      ]
     },
     "execution_count": 17,
     "metadata": {},
     "output_type": "execute_result"
    }
   ],
   "source": [
    "xf = XFoil()\n",
    "xf.airfoil = naca6409\n",
    "xf.Re = 48009\n",
    "xf.max_iter = 1000\n",
    "xf.n_crit = 9.00\n",
    "xf.xtr = [1.00, 1.00]\n",
    "xf.M = 0\n",
    "xf.a(12.5)"
   ]
  },
  {
   "cell_type": "code",
   "execution_count": 18,
   "metadata": {},
   "outputs": [],
   "source": [
    "a, cl, cd, cm, cp = xf.aseq(0,15,0.5)"
   ]
  },
  {
   "cell_type": "code",
   "execution_count": 19,
   "metadata": {},
   "outputs": [
    {
     "ename": "ModuleNotFoundError",
     "evalue": "No module named 'matplotlib'",
     "output_type": "error",
     "traceback": [
      "\u001b[1;31m---------------------------------------------------------------------------\u001b[0m",
      "\u001b[1;31mModuleNotFoundError\u001b[0m                       Traceback (most recent call last)",
      "\u001b[1;32m<ipython-input-19-dafef92403e4>\u001b[0m in \u001b[0;36m<module>\u001b[1;34m\u001b[0m\n\u001b[1;32m----> 1\u001b[1;33m \u001b[1;32mimport\u001b[0m \u001b[0mmatplotlib\u001b[0m\u001b[1;33m.\u001b[0m\u001b[0mpyplot\u001b[0m \u001b[1;32mas\u001b[0m \u001b[0mplt\u001b[0m\u001b[1;33m\u001b[0m\u001b[1;33m\u001b[0m\u001b[0m\n\u001b[0m\u001b[0;32m      2\u001b[0m \u001b[0mplt\u001b[0m\u001b[1;33m.\u001b[0m\u001b[0mplot\u001b[0m\u001b[1;33m(\u001b[0m\u001b[0ma\u001b[0m\u001b[1;33m,\u001b[0m \u001b[0mcl\u001b[0m\u001b[1;33m)\u001b[0m\u001b[1;33m\u001b[0m\u001b[1;33m\u001b[0m\u001b[0m\n\u001b[0;32m      3\u001b[0m \u001b[0mplt\u001b[0m\u001b[1;33m.\u001b[0m\u001b[0mshow\u001b[0m\u001b[1;33m(\u001b[0m\u001b[1;33m)\u001b[0m\u001b[1;33m\u001b[0m\u001b[1;33m\u001b[0m\u001b[0m\n",
      "\u001b[1;31mModuleNotFoundError\u001b[0m: No module named 'matplotlib'"
     ]
    }
   ],
   "source": [
    "import matplotlib.pyplot as plt\n",
    "plt.plot(a, cl)\n",
    "plt.show()"
   ]
  },
  {
   "cell_type": "code",
   "execution_count": null,
   "metadata": {},
   "outputs": [],
   "source": []
  },
  {
   "cell_type": "code",
   "execution_count": 22,
   "metadata": {},
   "outputs": [
    {
     "data": {
      "text/plain": [
       "(array([ 0. ,  0.5,  1. ,  1.5,  2. ,  2.5,  3. ,  3.5,  4. ,  4.5,  5. ,\n",
       "         5.5,  6. ,  6.5,  7. ,  7.5,  8. ,  8.5,  9. ,  9.5, 10. , 10.5,\n",
       "        11. , 11.5, 12. , 12.5, 13. , 13.5, 14. , 14.5]),\n",
       " array([0.62724257, 0.67468327, 0.73153228, 0.80403018, 0.85194558,\n",
       "        0.9075433 , 0.96697521, 1.0118978 , 1.07479966, 1.11285329,\n",
       "        1.17598593, 1.2083739 , 1.27210844, 1.29934549, 1.36804318,\n",
       "        1.42103171, 1.467013  , 1.4979248 , 1.50018668, 1.44608128,\n",
       "        1.39877915, 1.37379444, 1.36292076, 1.37793851, 1.42740619,\n",
       "        1.48730564, 1.4989382 , 1.49098885, 1.46788907, 1.43643117]),\n",
       " array([0.02187271, 0.02064855, 0.02089737, 0.0202619 , 0.02094622,\n",
       "        0.02143299, 0.0215523 , 0.02279576, 0.02288097, 0.02461034,\n",
       "        0.02480107, 0.02694546, 0.02715545, 0.02959299, 0.02959117,\n",
       "        0.02840242, 0.02606277, 0.02554992, 0.0258131 , 0.03052559,\n",
       "        0.0380793 , 0.04487331, 0.05084274, 0.0547463 , 0.05773814,\n",
       "        0.06313134, 0.06978228, 0.07776281, 0.08675979, 0.09687998]),\n",
       " array([-0.15493581, -0.15212378, -0.15187159, -0.15348479, -0.15211529,\n",
       "        -0.15188535, -0.1519337 , -0.15060255, -0.15114349, -0.14908256,\n",
       "        -0.14965588, -0.14696583, -0.14753245, -0.14412774, -0.14507513,\n",
       "        -0.14230834, -0.13729538, -0.13137256, -0.12090693, -0.10491963,\n",
       "        -0.09461401, -0.08840967, -0.08361228, -0.07848518, -0.07462326,\n",
       "        -0.07322587, -0.06951618, -0.06577915, -0.06292904, -0.06178102]),\n",
       " array([-0.81885386, -0.85383713, -0.89540023, -0.95249653, -0.99002594,\n",
       "        -1.03699481, -1.08813894, -1.12959421, -1.18865013, -1.22993505,\n",
       "        -1.36339748, -1.5788635 , -1.92891026, -2.16350627, -2.62029648,\n",
       "        -3.09180665, -3.56856298, -3.9548111 , -4.19924116, -4.16860676,\n",
       "        -4.12586069, -4.16684484, -4.25423527, -4.41128874, -4.78499174,\n",
       "        -5.24425411, -5.40156317, -5.4577775 , -5.44071341, -5.37591124]))"
      ]
     },
     "execution_count": 22,
     "metadata": {},
     "output_type": "execute_result"
    }
   ],
   "source": [
    "xf.aseq(0,15,0.5)"
   ]
  },
  {
   "cell_type": "code",
   "execution_count": 28,
   "metadata": {},
   "outputs": [
    {
     "data": {
      "text/plain": [
       "-5.401570796966553"
      ]
     },
     "execution_count": 28,
     "metadata": {},
     "output_type": "execute_result"
    }
   ],
   "source": [
    "cl, cd, cm, cp = xf.a(13)\n",
    "cp"
   ]
  },
  {
   "cell_type": "code",
   "execution_count": 24,
   "metadata": {},
   "outputs": [
    {
     "data": {
      "text/plain": [
       "(1.498945713043213,\n",
       " 0.06978219002485275,\n",
       " -0.06951639801263809,\n",
       " -5.401588439941406)"
      ]
     },
     "execution_count": 24,
     "metadata": {},
     "output_type": "execute_result"
    }
   ],
   "source": [
    "xf.a(13)"
   ]
  },
  {
   "cell_type": "code",
   "execution_count": 25,
   "metadata": {},
   "outputs": [
    {
     "data": {
      "text/plain": [
       "1.3987791538238525"
      ]
     },
     "execution_count": 25,
     "metadata": {},
     "output_type": "execute_result"
    }
   ],
   "source": [
    "cl"
   ]
  },
  {
   "cell_type": "code",
   "execution_count": 26,
   "metadata": {},
   "outputs": [],
   "source": [
    "import math\n",
    "a = math.sin(math.radians(30))"
   ]
  },
  {
   "cell_type": "code",
   "execution_count": 27,
   "metadata": {},
   "outputs": [
    {
     "data": {
      "text/plain": [
       "0.49999999999999994"
      ]
     },
     "execution_count": 27,
     "metadata": {},
     "output_type": "execute_result"
    }
   ],
   "source": [
    "a"
   ]
  },
  {
   "cell_type": "code",
   "execution_count": null,
   "metadata": {},
   "outputs": [],
   "source": []
  }
 ],
 "metadata": {
  "kernelspec": {
   "display_name": "mechanical",
   "language": "python",
   "name": "mechanical"
  },
  "language_info": {
   "codemirror_mode": {
    "name": "ipython",
    "version": 3
   },
   "file_extension": ".py",
   "mimetype": "text/x-python",
   "name": "python",
   "nbconvert_exporter": "python",
   "pygments_lexer": "ipython3",
   "version": "3.7.7"
  }
 },
 "nbformat": 4,
 "nbformat_minor": 2
}
