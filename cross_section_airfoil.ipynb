{
 "cells": [
  {
   "cell_type": "code",
   "execution_count": 3,
   "metadata": {},
   "outputs": [],
   "source": [
    "import numpy as np"
   ]
  },
  {
   "cell_type": "code",
   "execution_count": 4,
   "metadata": {},
   "outputs": [],
   "source": [
    "array6409 = np.loadtxt(\"NACA6409.dat\", skiprows=1)\n",
    "array2412 = np.loadtxt(\"NACA2412.dat\", skiprows=1)"
   ]
  },
  {
   "cell_type": "code",
   "execution_count": 22,
   "metadata": {},
   "outputs": [],
   "source": [
    "x = array6409[:,0]"
   ]
  },
  {
   "cell_type": "code",
   "execution_count": 56,
   "metadata": {},
   "outputs": [
    {
     "data": {
      "text/plain": [
       "49"
      ]
     },
     "execution_count": 56,
     "metadata": {},
     "output_type": "execute_result"
    }
   ],
   "source": [
    "np.where(x == 0)[0][0]"
   ]
  },
  {
   "cell_type": "code",
   "execution_count": 57,
   "metadata": {},
   "outputs": [
    {
     "data": {
      "text/plain": [
       "49"
      ]
     },
     "execution_count": 57,
     "metadata": {},
     "output_type": "execute_result"
    }
   ],
   "source": [
    "list(x).index(0)"
   ]
  },
  {
   "cell_type": "code",
   "execution_count": 37,
   "metadata": {},
   "outputs": [
    {
     "data": {
      "text/plain": [
       "array([1.0000e+00, 9.9280e-01, 9.7989e-01, 9.6352e-01, 9.4455e-01,\n",
       "       9.2350e-01, 9.0075e-01, 8.7658e-01, 8.5123e-01, 8.2489e-01,\n",
       "       7.9774e-01, 7.6991e-01, 7.4154e-01, 7.1275e-01, 6.8365e-01,\n",
       "       6.5434e-01, 6.2492e-01, 5.9547e-01, 5.6607e-01, 5.3680e-01,\n",
       "       5.0774e-01, 4.7895e-01, 4.5050e-01, 4.2246e-01, 3.9488e-01,\n",
       "       3.6782e-01, 3.4135e-01, 3.1551e-01, 2.9035e-01, 2.6594e-01,\n",
       "       2.4231e-01, 2.1951e-01, 1.9760e-01, 1.7661e-01, 1.5660e-01,\n",
       "       1.3760e-01, 1.1965e-01, 1.0280e-01, 8.7090e-02, 7.2560e-02,\n",
       "       5.9240e-02, 4.7170e-02, 3.6390e-02, 2.6940e-02, 1.8850e-02,\n",
       "       1.2150e-02, 6.8800e-03, 3.0800e-03, 7.8000e-04, 0.0000e+00])"
      ]
     },
     "execution_count": 37,
     "metadata": {},
     "output_type": "execute_result"
    }
   ],
   "source": [
    "x[:50]"
   ]
  },
  {
   "cell_type": "code",
   "execution_count": 39,
   "metadata": {},
   "outputs": [
    {
     "data": {
      "text/plain": [
       "array([0.0000e+00, 7.8000e-04, 3.0800e-03, 6.8800e-03, 1.2150e-02,\n",
       "       1.8850e-02, 2.6940e-02, 3.6390e-02, 4.7170e-02, 5.9240e-02,\n",
       "       7.2560e-02, 8.7090e-02, 1.0280e-01, 1.1965e-01, 1.3760e-01,\n",
       "       1.5660e-01, 1.7661e-01, 1.9760e-01, 2.1951e-01, 2.4231e-01,\n",
       "       2.6594e-01, 2.9035e-01, 3.1551e-01, 3.4135e-01, 3.6782e-01,\n",
       "       3.9488e-01, 4.2246e-01, 4.5050e-01, 4.7895e-01, 5.0774e-01,\n",
       "       5.3680e-01, 5.6607e-01, 5.9547e-01, 6.2492e-01, 6.5434e-01,\n",
       "       6.8365e-01, 7.1275e-01, 7.4154e-01, 7.6991e-01, 7.9774e-01,\n",
       "       8.2489e-01, 8.5123e-01, 8.7658e-01, 9.0075e-01, 9.2350e-01,\n",
       "       9.4455e-01, 9.6352e-01, 9.7989e-01, 9.9280e-01, 1.0000e+00])"
      ]
     },
     "execution_count": 39,
     "metadata": {},
     "output_type": "execute_result"
    }
   ],
   "source": [
    "x[49:]"
   ]
  },
  {
   "cell_type": "code",
   "execution_count": 60,
   "metadata": {},
   "outputs": [],
   "source": [
    "def split_airfoil(np_arr):\n",
    "    x_cord = np_arr[:,0]\n",
    "    ref_idx = list(x_cord).index(0)\n",
    "    # find the index that x_cord == 0\n",
    "    upper = np_arr[:ref_idx+1]\n",
    "    lower = np_arr[ref_idx:]\n",
    "    return upper, lower"
   ]
  },
  {
   "cell_type": "code",
   "execution_count": 123,
   "metadata": {},
   "outputs": [
    {
     "data": {
      "text/plain": [
       "array([[ 0.0000e+00,  0.0000e+00],\n",
       "       [ 7.8000e-04, -3.4400e-03],\n",
       "       [ 3.0800e-03, -6.3200e-03],\n",
       "       [ 6.8800e-03, -8.6400e-03],\n",
       "       [ 1.2150e-02, -1.0430e-02],\n",
       "       [ 1.8850e-02, -1.1700e-02],\n",
       "       [ 2.6940e-02, -1.2480e-02],\n",
       "       [ 3.6390e-02, -1.2800e-02],\n",
       "       [ 4.7170e-02, -1.2690e-02],\n",
       "       [ 5.9240e-02, -1.2170e-02],\n",
       "       [ 7.2560e-02, -1.1300e-02],\n",
       "       [ 8.7090e-02, -1.0090e-02],\n",
       "       [ 1.0280e-01, -8.5900e-03],\n",
       "       [ 1.1965e-01, -6.8500e-03],\n",
       "       [ 1.3760e-01, -4.9000e-03],\n",
       "       [ 1.5660e-01, -2.7900e-03],\n",
       "       [ 1.7661e-01, -5.7000e-04],\n",
       "       [ 1.9760e-01,  1.7100e-03],\n",
       "       [ 2.1951e-01,  4.0100e-03],\n",
       "       [ 2.4231e-01,  6.2700e-03],\n",
       "       [ 2.6594e-01,  8.4500e-03],\n",
       "       [ 2.9035e-01,  1.0490e-02],\n",
       "       [ 3.1551e-01,  1.2350e-02],\n",
       "       [ 3.4135e-01,  1.3970e-02],\n",
       "       [ 3.6782e-01,  1.5310e-02],\n",
       "       [ 3.9488e-01,  1.6330e-02],\n",
       "       [ 4.2246e-01,  1.7080e-02],\n",
       "       [ 4.5050e-01,  1.7740e-02],\n",
       "       [ 4.7895e-01,  1.8300e-02],\n",
       "       [ 5.0774e-01,  1.8730e-02],\n",
       "       [ 5.3680e-01,  1.9020e-02],\n",
       "       [ 5.6607e-01,  1.9160e-02],\n",
       "       [ 5.9547e-01,  1.9130e-02],\n",
       "       [ 6.2492e-01,  1.8920e-02],\n",
       "       [ 6.5434e-01,  1.8520e-02],\n",
       "       [ 6.8365e-01,  1.7930e-02],\n",
       "       [ 7.1275e-01,  1.7160e-02],\n",
       "       [ 7.4154e-01,  1.6200e-02],\n",
       "       [ 7.6991e-01,  1.5070e-02],\n",
       "       [ 7.9774e-01,  1.3770e-02],\n",
       "       [ 8.2489e-01,  1.2340e-02],\n",
       "       [ 8.5123e-01,  1.0780e-02],\n",
       "       [ 8.7658e-01,  9.1300e-03],\n",
       "       [ 9.0075e-01,  7.4200e-03],\n",
       "       [ 9.2350e-01,  5.6900e-03],\n",
       "       [ 9.4455e-01,  3.9900e-03],\n",
       "       [ 9.6352e-01,  2.3800e-03],\n",
       "       [ 9.7989e-01,  9.2000e-04],\n",
       "       [ 9.9280e-01, -2.7000e-04],\n",
       "       [ 1.0000e+00, -9.4000e-04]])"
      ]
     },
     "execution_count": 123,
     "metadata": {},
     "output_type": "execute_result"
    }
   ],
   "source": [
    "split_airfoil(array6409)[1]"
   ]
  },
  {
   "cell_type": "code",
   "execution_count": 119,
   "metadata": {},
   "outputs": [
    {
     "name": "stdout",
     "output_type": "stream",
     "text": [
      "0.07020977420000002 0.0713724131\n",
      "0.07079109365000001\n"
     ]
    }
   ],
   "source": [
    "enum = list(enumerate(array6409[:50]))\n",
    "small_sum = 0\n",
    "large_sum = 0\n",
    "for index, value in enum[:-1]:\n",
    "    small_sum += (value[0] - enum[index+1][1][0])*value[1]\n",
    "    large_sum += (value[0] - enum[index+1][1][0])*enum[index+1][1][1] \n",
    "print(small_sum, large_sum)\n",
    "print(0.5*(small_sum + large_sum))"
   ]
  },
  {
   "cell_type": "code",
   "execution_count": 120,
   "metadata": {},
   "outputs": [
    {
     "name": "stdout",
     "output_type": "stream",
     "text": [
      "-0.0090747592 -0.009253981499999996\n",
      "-0.009164370349999998\n"
     ]
    }
   ],
   "source": [
    "enum = list(enumerate(array6409[49:]))\n",
    "small_sum = 0\n",
    "large_sum = 0\n",
    "for index, value in enum[:-1]:\n",
    "    small_sum += (value[0] - enum[index+1][1][0])*value[1]\n",
    "    large_sum += (value[0] - enum[index+1][1][0])*enum[index+1][1][1] \n",
    "print(small_sum, large_sum)\n",
    "print(0.5*(small_sum + large_sum))"
   ]
  },
  {
   "cell_type": "code",
   "execution_count": 121,
   "metadata": {},
   "outputs": [],
   "source": [
    "def get_area(arr):\n",
    "    enum = list(enumerate(arr))\n",
    "    small_sum = 0\n",
    "    large_sum = 0\n",
    "    for index, value in enum[:-1]:\n",
    "        small_sum += (value[0] - enum[index+1][1][0])*value[1]\n",
    "        large_sum += (value[0] - enum[index+1][1][0])*enum[index+1][1][1] \n",
    "    return 0.5*(small_sum + large_sum)"
   ]
  },
  {
   "cell_type": "code",
   "execution_count": 124,
   "metadata": {},
   "outputs": [],
   "source": [
    "def cross_section(np_arr):\n",
    "    splited = split_airfoil(np_arr)\n",
    "    area = 0\n",
    "    for item in splited:\n",
    "        area += get_area(item)\n",
    "    return area"
   ]
  },
  {
   "cell_type": "code",
   "execution_count": 125,
   "metadata": {},
   "outputs": [
    {
     "data": {
      "text/plain": [
       "0.06162672330000001"
      ]
     },
     "execution_count": 125,
     "metadata": {},
     "output_type": "execute_result"
    }
   ],
   "source": [
    "cross_section(array6409)"
   ]
  },
  {
   "cell_type": "code",
   "execution_count": 126,
   "metadata": {},
   "outputs": [
    {
     "data": {
      "text/plain": [
       "0.082167074"
      ]
     },
     "execution_count": 126,
     "metadata": {},
     "output_type": "execute_result"
    }
   ],
   "source": [
    "cross_section(array2412)"
   ]
  },
  {
   "cell_type": "code",
   "execution_count": 5,
   "metadata": {},
   "outputs": [],
   "source": [
    "import pandas as pd\n",
    "df = pd.DataFrame(array6409)\n",
    "df.to_excel(\"test.xlsx\")"
   ]
  },
  {
   "cell_type": "code",
   "execution_count": null,
   "metadata": {},
   "outputs": [],
   "source": []
  }
 ],
 "metadata": {
  "kernelspec": {
   "display_name": "mechanical",
   "language": "python",
   "name": "mechanical"
  },
  "language_info": {
   "codemirror_mode": {
    "name": "ipython",
    "version": 3
   },
   "file_extension": ".py",
   "mimetype": "text/x-python",
   "name": "python",
   "nbconvert_exporter": "python",
   "pygments_lexer": "ipython3",
   "version": "3.7.7"
  }
 },
 "nbformat": 4,
 "nbformat_minor": 2
}
