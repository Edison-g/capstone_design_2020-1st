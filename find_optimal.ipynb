{
 "cells": [
  {
   "cell_type": "code",
   "execution_count": 1,
   "metadata": {},
   "outputs": [],
   "source": [
    "from xfoil import XFoil\n",
    "from xfoil.model import Airfoil\n",
    "import numpy as np\n",
    "import pandas as pd\n",
    "import math"
   ]
  },
  {
   "cell_type": "code",
   "execution_count": 2,
   "metadata": {},
   "outputs": [],
   "source": [
    "array6409 = np.loadtxt(\"NACA6409.dat\", skiprows=1)\n",
    "naca6409 = Airfoil(x=array6409[:, 0], y=array6409[:, 1])"
   ]
  },
  {
   "cell_type": "code",
   "execution_count": 37,
   "metadata": {},
   "outputs": [],
   "source": [
    "# blade = {\n",
    "#     0:{\"r\": 0.05, \"wind_v\": 0, \"blade_v\": 0, \"rel_v\": 0, \"arctan\": 0, \"chord\":0.06,\"Re\":0, \"pitch\":0,\"aoa\":0, \"Cl\":0, \"Cd\":0, \"lift\":0, \"drag\":0, 'torque':0}\n",
    "# }"
   ]
  },
  {
   "cell_type": "code",
   "execution_count": 38,
   "metadata": {},
   "outputs": [],
   "source": [
    "# w = 60\n",
    "# r = 0.05\n",
    "# wind_v = round(-168.75*r**2-36.75*r+20.05 , 2)\n",
    "# blade_v = r*w\n",
    "# rel_v = round(math.sqrt(blade_v**2 + wind_v**2),2)\n",
    "# arctan = round(math.degrees(math.atan2(wind_v, blade_v)), 2)\n",
    "# aoa = 13.4\n",
    "# chord = 8*math.pi*r*(1-math.cos(math.radians(arctan-aoa))) / 8 / 1.58\n",
    "# Re = round(rel_v * chord / 0.00001511 / 1000)*1000\n",
    "# blade[0]['r'] = r\n",
    "# blade[0]['wind_v'] = wind_v\n",
    "# blade[0]['blade_v'] = blade_v\n",
    "# blade[0]['rel_v'] = rel_v\n",
    "# blade[0]['chord'] = chord\n",
    "# blade[0]['Re'] = Re\n",
    "# blade[0][\"arctan\"] = arctan\n",
    "# blade[0][\"aoa\"] = aoa\n",
    "# blade[0][\"pitch\"] = arctan - aoa"
   ]
  },
  {
   "cell_type": "code",
   "execution_count": 24,
   "metadata": {},
   "outputs": [],
   "source": [
    "def get_max_cl(Re):\n",
    "    xf = XFoil()\n",
    "    # if key < 13: \n",
    "    xf.airfoil = naca6409\n",
    "    # else:\n",
    "    #     xf.airfoil = naca2412\n",
    "    xf.Re = Re\n",
    "    xf.max_iter = 200\n",
    "    xf.n_crit = 9.00\n",
    "    xf.xtr = [1.00, 1.00]\n",
    "    xf.M = 0\n",
    "    a_seq, cl_seq, cd_seq, cm_seq, cp_seq = xf.aseq(10,15,0.1)\n",
    "    cl_seq = np.nan_to_num(cl_seq)\n",
    "    cl_maxi = np.max(cl_seq)\n",
    "    idx = np.argmax(cl_seq)\n",
    "#     print(\"Re\",Re ,\"cl_max\", cl_maxi, \"aoa\" , a_maxi )\n",
    "    return round(cl_maxi,2),round(a_seq[idx],2), round(cd_seq[idx],2)"
   ]
  },
  {
   "cell_type": "code",
   "execution_count": 25,
   "metadata": {},
   "outputs": [
    {
     "data": {
      "text/plain": [
       "(1.51, 13.2, 0.09)"
      ]
     },
     "execution_count": 25,
     "metadata": {},
     "output_type": "execute_result"
    }
   ],
   "source": [
    "get_max_cl(47500)"
   ]
  },
  {
   "cell_type": "code",
   "execution_count": 15,
   "metadata": {},
   "outputs": [],
   "source": [
    "from random import *"
   ]
  },
  {
   "cell_type": "code",
   "execution_count": 16,
   "metadata": {},
   "outputs": [],
   "source": [
    "def get_re(r, cl, aoa, arctan, rel_v):\n",
    "    chord = 8*math.pi*r*(1-math.cos(math.radians(arctan-aoa))) / 8 / cl\n",
    "    Re = round(rel_v * chord / 0.00001511 / 100)*100\n",
    "#     print(\"chord_length\", chord, \"Re_number\", Re)\n",
    "    return Re, chord"
   ]
  },
  {
   "cell_type": "code",
   "execution_count": 17,
   "metadata": {},
   "outputs": [],
   "source": [
    "def random_iteration(r):\n",
    "    w = 60\n",
    "    wind_v = round(-168.75*r**2-36.75*r+20.05 , 2)\n",
    "    blade_v = r*w\n",
    "    rel_v = round(math.sqrt(blade_v**2 + wind_v**2),2)\n",
    "    arctan = round(math.degrees(math.atan2(wind_v, blade_v)), 2)\n",
    "    cl = uniform(1.0, 1.7)\n",
    "    aoa = uniform(10, 15)\n",
    "    treeHit = 0\n",
    "    Re = get_re(r, cl, aoa, arctan, rel_v)[0]\n",
    "    new_cl, new_a = get_max_cl(Re)\n",
    "    new_Re, new_chord = get_re(r, round(new_cl,2), round(new_a,2), arctan, rel_v)\n",
    "    re_devi = abs((new_Re - Re) / Re)\n",
    "    while re_devi > 0.05:\n",
    "        Re = new_Re\n",
    "        new_cl, new_a = get_max_cl(new_Re)\n",
    "        new_Re, new_chord = get_re(r, new_cl, new_a, arctan, rel_v)\n",
    "        re_devi = abs((new_Re - Re) / Re)\n",
    "        treeHit += 1\n",
    "        if treeHit > 10:\n",
    "            break\n",
    "    print(\"r\",r,\"arctan\", arctan, \"cl\", new_cl, \"chord\", round(new_chord,3), \"aoa\", new_a, \"Re\", new_Re, \"treeHit\", treeHit)"
   ]
  },
  {
   "cell_type": "code",
   "execution_count": 18,
   "metadata": {},
   "outputs": [],
   "source": [
    "r_positions = np.arange(0.025, 0.2, 0.0125)"
   ]
  },
  {
   "cell_type": "code",
   "execution_count": 19,
   "metadata": {},
   "outputs": [
    {
     "name": "stdout",
     "output_type": "stream",
     "text": [
      "r 0.025 arctan 85.49 cl 1.47 chord 0.038 aoa 12.7 Re 47500.0 treeHit 2\n",
      "r 0.0375 arctan 83.04 cl 1.5 chord 0.051 aoa 13.2 Re 63300.0 treeHit 1\n",
      "r 0.05 arctan 80.43 cl 1.49 chord 0.065 aoa 13.0 Re 77600.0 treeHit 1\n",
      "r 0.0625 arctan 77.62 cl 1.52 chord 0.074 aoa 12.7 Re 86200.0 treeHit 1\n",
      "r 0.075 arctan 74.6 cl 1.5 chord 0.082 aoa 13.1 Re 92100.0 treeHit 1\n",
      "r 0.0875 arctan 71.33 cl 1.5 chord 0.087 aoa 13.1 Re 94200.0 treeHit 1\n",
      "r 0.1 arctan 67.78 cl 1.5 chord 0.089 aoa 13.0 Re 93100.0 treeHit 1\n",
      "r 0.1125 arctan 63.9 cl 1.52 chord 0.087 aoa 12.6 Re 88500.0 treeHit 1\n",
      "r 0.125 arctan 59.67 cl 1.5 chord 0.082 aoa 13.1 Re 80400.0 treeHit 1\n",
      "r 0.1375 arctan 55.06 cl 1.51 chord 0.075 aoa 12.6 Re 71500.0 treeHit 1\n",
      "r 0.15 arctan 50.04 cl 1.52 chord 0.064 aoa 12.6 Re 59200.0 treeHit 1\n",
      "r 0.1625 arctan 44.62 cl 1.47 chord 0.053 aoa 12.7 Re 47600.0 treeHit 2\n",
      "r 0.175 arctan 38.83 cl 1.42 chord 0.04 aoa 12.6 Re 35600.0 treeHit 11\n",
      "r 0.1875 arctan 32.73 cl 1.04 chord 0.027 aoa 14.9 Re 24100.0 treeHit 1\n"
     ]
    }
   ],
   "source": [
    "for position in r_positions:\n",
    "    random_iteration(round(position, 4))"
   ]
  },
  {
   "cell_type": "code",
   "execution_count": null,
   "metadata": {},
   "outputs": [],
   "source": []
  }
 ],
 "metadata": {
  "kernelspec": {
   "display_name": "mechanical",
   "language": "python",
   "name": "mechanical"
  },
  "language_info": {
   "codemirror_mode": {
    "name": "ipython",
    "version": 3
   },
   "file_extension": ".py",
   "mimetype": "text/x-python",
   "name": "python",
   "nbconvert_exporter": "python",
   "pygments_lexer": "ipython3",
   "version": "3.7.7"
  }
 },
 "nbformat": 4,
 "nbformat_minor": 2
}
